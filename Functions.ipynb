{
 "cells": [
  {
   "cell_type": "markdown",
   "id": "cf81548c",
   "metadata": {},
   "source": [
    "# Tables of Contents\n",
    "\n",
    "- [Functions](#fun)\n",
    "- [Types of function](#type_fun)\n",
    "- [Build - in](#built)\n",
    "- User Defined Function\n",
    "- Modules / Libary\n",
    "\n",
    "\n"
   ]
  },
  {
   "cell_type": "markdown",
   "id": "18daae8b",
   "metadata": {},
   "source": [
    "## Function <a class = 'anchor' id = 'fun'></a>\n",
    "A Function is block of code, which run sequentially from top to bottom by python interpreter, only when it called"
   ]
  },
  {
   "cell_type": "markdown",
   "id": "dc3fae5c",
   "metadata": {},
   "source": [
    "## Types of function <a class= 'anchor' id = 'type_fun'></a>\n",
    "- Build - in\n",
    "- User Defined Function\n",
    "- Modules / Libary\n"
   ]
  },
  {
   "cell_type": "markdown",
   "id": "58a3ac04",
   "metadata": {},
   "source": [
    "## Build in function <a calss  = 'anchor' id = 'built'></a>\n",
    "Built in functions are the function(s) that built into python and can be directly accessed by a programmer without calling module/UDF.  We don’t need to import or define function(s) before using instead we can directly use."
   ]
  },
  {
   "cell_type": "markdown",
   "id": "e429d965",
   "metadata": {},
   "source": [
    " Examples : range(start, stop,step)\n",
    "type(), \n",
    "input(), print(), tuple(), list(), set(), long() and etc."
   ]
  },
  {
   "cell_type": "code",
   "execution_count": 1,
   "id": "047dbbd6",
   "metadata": {},
   "outputs": [
    {
     "name": "stdout",
     "output_type": "stream",
     "text": [
      "Hello\n"
     ]
    }
   ],
   "source": [
    "print('Hello')"
   ]
  },
  {
   "cell_type": "code",
   "execution_count": 3,
   "id": "bdb67095",
   "metadata": {},
   "outputs": [
    {
     "data": {
      "text/plain": [
       "[0, 1, 2, 3, 4]"
      ]
     },
     "execution_count": 3,
     "metadata": {},
     "output_type": "execute_result"
    }
   ],
   "source": [
    "list(range(5))"
   ]
  },
  {
   "cell_type": "markdown",
   "id": "689a61b4",
   "metadata": {},
   "source": [
    "## User Defined Functions <a class = 'anchor' id = 'udf'></a>\n",
    "Those function whica are defined from user end that is called **UDF**.\n",
    "\n",
    "#### Syntax : \n",
    "```\n",
    "def function_name(para1,para2.....) :\n",
    "    .......... function body..........\n",
    "    ..................................\n",
    "    .....return/print.................\n",
    "```\n"
   ]
  },
  {
   "cell_type": "code",
   "execution_count": 9,
   "id": "9d865578",
   "metadata": {},
   "outputs": [],
   "source": [
    "#  creatinng a function\n",
    "def add(n1,n2):\n",
    "    s = n1 + n2\n",
    "    return s"
   ]
  },
  {
   "cell_type": "code",
   "execution_count": 10,
   "id": "95598753",
   "metadata": {},
   "outputs": [
    {
     "data": {
      "text/plain": [
       "10"
      ]
     },
     "execution_count": 10,
     "metadata": {},
     "output_type": "execute_result"
    }
   ],
   "source": [
    "# calling a function \n",
    "add(4,6)"
   ]
  },
  {
   "cell_type": "code",
   "execution_count": 11,
   "id": "7cb7866c",
   "metadata": {},
   "outputs": [
    {
     "data": {
      "text/plain": [
       "20"
      ]
     },
     "execution_count": 11,
     "metadata": {},
     "output_type": "execute_result"
    }
   ],
   "source": [
    "add(12,8)"
   ]
  },
  {
   "cell_type": "code",
   "execution_count": 12,
   "id": "1a54e703",
   "metadata": {},
   "outputs": [],
   "source": [
    "# hgreet\n",
    "\n",
    "def greet(name):\n",
    "    text = f\"Hello {name}! How are you?\"\n",
    "    print(text)"
   ]
  },
  {
   "cell_type": "code",
   "execution_count": 13,
   "id": "a5924128",
   "metadata": {},
   "outputs": [
    {
     "name": "stdout",
     "output_type": "stream",
     "text": [
      "Hello Shubham! How are you?\n"
     ]
    }
   ],
   "source": [
    "# calling a function\n",
    "greet('Shubham')"
   ]
  },
  {
   "cell_type": "code",
   "execution_count": 14,
   "id": "23363267",
   "metadata": {},
   "outputs": [
    {
     "name": "stdout",
     "output_type": "stream",
     "text": [
      "Hello Tribhuvan! How are you?\n"
     ]
    }
   ],
   "source": [
    "greet('Tribhuvan')"
   ]
  },
  {
   "cell_type": "code",
   "execution_count": null,
   "id": "c7def94f",
   "metadata": {},
   "outputs": [],
   "source": []
  },
  {
   "cell_type": "code",
   "execution_count": null,
   "id": "8ef1c3d9",
   "metadata": {},
   "outputs": [],
   "source": []
  },
  {
   "cell_type": "markdown",
   "id": "6e08194f",
   "metadata": {},
   "source": [
    "## Practice set\n",
    "Make a UDF that can \n",
    "- substract two number\n",
    "- Multiply\n",
    "- Division"
   ]
  },
  {
   "cell_type": "code",
   "execution_count": 15,
   "id": "13c45281",
   "metadata": {},
   "outputs": [],
   "source": [
    "# substract two number\n",
    "\n"
   ]
  },
  {
   "cell_type": "code",
   "execution_count": null,
   "id": "52834f34",
   "metadata": {},
   "outputs": [],
   "source": []
  }
 ],
 "metadata": {
  "kernelspec": {
   "display_name": "Python 3 (ipykernel)",
   "language": "python",
   "name": "python3"
  },
  "language_info": {
   "codemirror_mode": {
    "name": "ipython",
    "version": 3
   },
   "file_extension": ".py",
   "mimetype": "text/x-python",
   "name": "python",
   "nbconvert_exporter": "python",
   "pygments_lexer": "ipython3",
   "version": "3.9.7"
  }
 },
 "nbformat": 4,
 "nbformat_minor": 5
}
